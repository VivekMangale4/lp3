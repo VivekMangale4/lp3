{
  "cells": [
    {
      "cell_type": "code",
      "execution_count": null,
      "id": "35581b4a-4a49-4efd-a50b-2ba112ac98ba",
      "metadata": {
        "id": "35581b4a-4a49-4efd-a50b-2ba112ac98ba"
      },
      "outputs": [],
      "source": [
        "# Importing required libraries\n",
        "import pandas as pd\n",
        "import numpy as np\n",
        "import matplotlib.pyplot as plt\n",
        "import seaborn as sns"
      ]
    },
    {
      "cell_type": "code",
      "execution_count": null,
      "id": "ca84c24c-5826-45f5-afa2-d01e974964c1",
      "metadata": {
        "id": "ca84c24c-5826-45f5-afa2-d01e974964c1"
      },
      "outputs": [],
      "source": [
        "# Loading data into dataframe\n",
        "Data_frame = pd.read_csv(\"/Churn_Modelling.csv\")"
      ]
    },
    {
      "cell_type": "code",
      "execution_count": null,
      "id": "dcb6711d-f268-4eb4-a064-a67fa02b0f00",
      "metadata": {
        "colab": {
          "base_uri": "https://localhost:8080/"
        },
        "id": "dcb6711d-f268-4eb4-a064-a67fa02b0f00",
        "outputId": "52c89437-36a0-4f53-c2b2-d1154ddc4fe7"
      },
      "outputs": [
        {
          "output_type": "stream",
          "name": "stdout",
          "text": [
            "<class 'pandas.core.frame.DataFrame'>\n",
            "RangeIndex: 10000 entries, 0 to 9999\n",
            "Data columns (total 14 columns):\n",
            " #   Column           Non-Null Count  Dtype  \n",
            "---  ------           --------------  -----  \n",
            " 0   RowNumber        10000 non-null  int64  \n",
            " 1   CustomerId       10000 non-null  int64  \n",
            " 2   Surname          10000 non-null  object \n",
            " 3   CreditScore      10000 non-null  int64  \n",
            " 4   Geography        10000 non-null  object \n",
            " 5   Gender           10000 non-null  object \n",
            " 6   Age              10000 non-null  int64  \n",
            " 7   Tenure           10000 non-null  int64  \n",
            " 8   Balance          10000 non-null  float64\n",
            " 9   NumOfProducts    10000 non-null  int64  \n",
            " 10  HasCrCard        10000 non-null  int64  \n",
            " 11  IsActiveMember   10000 non-null  int64  \n",
            " 12  EstimatedSalary  10000 non-null  float64\n",
            " 13  Exited           10000 non-null  int64  \n",
            "dtypes: float64(2), int64(9), object(3)\n",
            "memory usage: 1.1+ MB\n"
          ]
        }
      ],
      "source": [
        "# Basic infomation about data\n",
        "Data_frame.info()"
      ]
    },
    {
      "cell_type": "code",
      "execution_count": null,
      "id": "0ac542a8-4ae4-4262-b319-6272b5b721d5",
      "metadata": {
        "id": "0ac542a8-4ae4-4262-b319-6272b5b721d5"
      },
      "outputs": [],
      "source": [
        "# Making dataframe copy to prevent original data\n",
        "Data_frame_copy = Data_frame.copy()"
      ]
    },
    {
      "cell_type": "code",
      "execution_count": null,
      "id": "486ed605-e576-45f6-b819-aaabb2edd6c3",
      "metadata": {
        "id": "486ed605-e576-45f6-b819-aaabb2edd6c3"
      },
      "outputs": [],
      "source": [
        "# Using label encoder to encode columns like Geography and Gender which are object type\n",
        "from sklearn.preprocessing import LabelEncoder\n",
        "LE = LabelEncoder()\n",
        "Selected_columns = [\"Geography\",\"Gender\"]\n",
        "for column in Selected_columns:\n",
        "    Data_frame_copy[column] = LE.fit_transform(Data_frame_copy[column])"
      ]
    },
    {
      "cell_type": "code",
      "execution_count": null,
      "id": "d499c506-66b6-40da-97ae-b60d880866f7",
      "metadata": {
        "id": "d499c506-66b6-40da-97ae-b60d880866f7"
      },
      "outputs": [],
      "source": [
        "# Droping columns which are not required for model building\n",
        "Data_frame_copy.drop(columns=['RowNumber','CustomerId','Surname'],inplace=True)"
      ]
    },
    {
      "cell_type": "code",
      "execution_count": null,
      "id": "120ea19b-5854-4641-8213-042b58b04546",
      "metadata": {
        "id": "120ea19b-5854-4641-8213-042b58b04546"
      },
      "outputs": [],
      "source": [
        "# Spliting data into Independent and Dependent variables\n",
        "y = Data_frame_copy.Exited.values\n",
        "x = Data_frame_copy.drop(columns=['Exited'])"
      ]
    },
    {
      "cell_type": "code",
      "execution_count": null,
      "id": "e0eaf558-4802-449c-b054-6b93cbb949f2",
      "metadata": {
        "id": "e0eaf558-4802-449c-b054-6b93cbb949f2"
      },
      "outputs": [],
      "source": [
        "# Spliting data into training and testing data\n",
        "from sklearn.model_selection import train_test_split\n",
        "x_train,x_test,y_train,y_test = train_test_split(x,y,random_state=20,test_size=0.25)"
      ]
    },
    {
      "cell_type": "code",
      "execution_count": null,
      "id": "851ba4b9-42d6-4720-9011-1cd5e03a7ea9",
      "metadata": {
        "id": "851ba4b9-42d6-4720-9011-1cd5e03a7ea9"
      },
      "outputs": [],
      "source": [
        "from sklearn.preprocessing import StandardScaler\n",
        "std_x = StandardScaler()\n",
        "x_train = std_x.fit_transform(x_train)\n",
        "x_test = std_x.transform(x_test)"
      ]
    },
    {
      "cell_type": "code",
      "execution_count": null,
      "id": "36ab4eac-47c8-4499-b1d3-425b6be77466",
      "metadata": {
        "id": "36ab4eac-47c8-4499-b1d3-425b6be77466"
      },
      "outputs": [],
      "source": [
        "# Importing libraries required for building neural network\n",
        "import tensorflow as tf\n",
        "from tensorflow.keras.layers import Dense,Conv1D,Flatten\n",
        "from tensorflow.keras.models import Sequential, Model"
      ]
    },
    {
      "cell_type": "code",
      "execution_count": null,
      "id": "ad18a6a8-c235-4dc9-b8cd-120e271eacc6",
      "metadata": {
        "colab": {
          "base_uri": "https://localhost:8080/"
        },
        "id": "ad18a6a8-c235-4dc9-b8cd-120e271eacc6",
        "outputId": "685b2f97-fce6-471b-f0df-e4e0ec71fe13"
      },
      "outputs": [
        {
          "output_type": "stream",
          "name": "stderr",
          "text": [
            "/usr/local/lib/python3.10/dist-packages/keras/src/layers/reshaping/flatten.py:37: UserWarning: Do not pass an `input_shape`/`input_dim` argument to a layer. When using Sequential models, prefer using an `Input(shape)` object as the first layer in the model instead.\n",
            "  super().__init__(**kwargs)\n"
          ]
        }
      ],
      "source": [
        "# Defining neural network structure\n",
        "# First input layer which as 10 nodes for input of 10 variables\n",
        "# Second hidden layer having 100 nodes and relu as activation function (read about different activation funcitons like sigmoid, tanh, and more\n",
        "# Output layer having one node which return value between 0 to 1\n",
        "model=Sequential()\n",
        "model.add(Flatten(input_shape=(10,)))\n",
        "model.add(Dense(100,activation='relu'))\n",
        "model.add(Dense(1,activation='sigmoid'))"
      ]
    },
    {
      "cell_type": "code",
      "execution_count": null,
      "id": "5e5a20ce-e285-4480-ab5f-42dc540043a9",
      "metadata": {
        "id": "5e5a20ce-e285-4480-ab5f-42dc540043a9"
      },
      "outputs": [],
      "source": [
        "# Compiling model using adam optimizer (read about different optimizer)\n",
        "model.compile(optimizer='adam',metrics=['accuracy'],loss='BinaryCrossentropy')"
      ]
    },
    {
      "cell_type": "code",
      "execution_count": null,
      "id": "9075c764-c022-48d1-81c6-6300503a7fcc",
      "metadata": {
        "colab": {
          "base_uri": "https://localhost:8080/"
        },
        "id": "9075c764-c022-48d1-81c6-6300503a7fcc",
        "outputId": "1306a55f-c178-4ce2-efae-fff9c44b1a2c"
      },
      "outputs": [
        {
          "output_type": "stream",
          "name": "stdout",
          "text": [
            "Epoch 1/100\n",
            "\u001b[1m106/106\u001b[0m \u001b[32m━━━━━━━━━━━━━━━━━━━━\u001b[0m\u001b[37m\u001b[0m \u001b[1m2s\u001b[0m 4ms/step - accuracy: 0.7998 - loss: 0.5073 - val_accuracy: 0.8173 - val_loss: 0.4302\n",
            "Epoch 2/100\n",
            "\u001b[1m106/106\u001b[0m \u001b[32m━━━━━━━━━━━━━━━━━━━━\u001b[0m\u001b[37m\u001b[0m \u001b[1m0s\u001b[0m 2ms/step - accuracy: 0.8020 - loss: 0.4468 - val_accuracy: 0.8240 - val_loss: 0.4057\n",
            "Epoch 3/100\n",
            "\u001b[1m106/106\u001b[0m \u001b[32m━━━━━━━━━━━━━━━━━━━━\u001b[0m\u001b[37m\u001b[0m \u001b[1m0s\u001b[0m 2ms/step - accuracy: 0.8164 - loss: 0.4254 - val_accuracy: 0.8360 - val_loss: 0.3897\n",
            "Epoch 4/100\n",
            "\u001b[1m106/106\u001b[0m \u001b[32m━━━━━━━━━━━━━━━━━━━━\u001b[0m\u001b[37m\u001b[0m \u001b[1m0s\u001b[0m 2ms/step - accuracy: 0.8346 - loss: 0.3950 - val_accuracy: 0.8440 - val_loss: 0.3738\n",
            "Epoch 5/100\n",
            "\u001b[1m106/106\u001b[0m \u001b[32m━━━━━━━━━━━━━━━━━━━━\u001b[0m\u001b[37m\u001b[0m \u001b[1m0s\u001b[0m 2ms/step - accuracy: 0.8457 - loss: 0.3728 - val_accuracy: 0.8587 - val_loss: 0.3653\n",
            "Epoch 6/100\n",
            "\u001b[1m106/106\u001b[0m \u001b[32m━━━━━━━━━━━━━━━━━━━━\u001b[0m\u001b[37m\u001b[0m \u001b[1m0s\u001b[0m 2ms/step - accuracy: 0.8503 - loss: 0.3630 - val_accuracy: 0.8640 - val_loss: 0.3520\n",
            "Epoch 7/100\n",
            "\u001b[1m106/106\u001b[0m \u001b[32m━━━━━━━━━━━━━━━━━━━━\u001b[0m\u001b[37m\u001b[0m \u001b[1m0s\u001b[0m 3ms/step - accuracy: 0.8384 - loss: 0.3789 - val_accuracy: 0.8653 - val_loss: 0.3425\n",
            "Epoch 8/100\n",
            "\u001b[1m106/106\u001b[0m \u001b[32m━━━━━━━━━━━━━━━━━━━━\u001b[0m\u001b[37m\u001b[0m \u001b[1m0s\u001b[0m 2ms/step - accuracy: 0.8524 - loss: 0.3639 - val_accuracy: 0.8720 - val_loss: 0.3383\n",
            "Epoch 9/100\n",
            "\u001b[1m106/106\u001b[0m \u001b[32m━━━━━━━━━━━━━━━━━━━━\u001b[0m\u001b[37m\u001b[0m \u001b[1m0s\u001b[0m 2ms/step - accuracy: 0.8526 - loss: 0.3588 - val_accuracy: 0.8747 - val_loss: 0.3364\n",
            "Epoch 10/100\n",
            "\u001b[1m106/106\u001b[0m \u001b[32m━━━━━━━━━━━━━━━━━━━━\u001b[0m\u001b[37m\u001b[0m \u001b[1m0s\u001b[0m 2ms/step - accuracy: 0.8486 - loss: 0.3572 - val_accuracy: 0.8760 - val_loss: 0.3317\n",
            "Epoch 11/100\n",
            "\u001b[1m106/106\u001b[0m \u001b[32m━━━━━━━━━━━━━━━━━━━━\u001b[0m\u001b[37m\u001b[0m \u001b[1m0s\u001b[0m 2ms/step - accuracy: 0.8579 - loss: 0.3467 - val_accuracy: 0.8760 - val_loss: 0.3290\n",
            "Epoch 12/100\n",
            "\u001b[1m106/106\u001b[0m \u001b[32m━━━━━━━━━━━━━━━━━━━━\u001b[0m\u001b[37m\u001b[0m \u001b[1m0s\u001b[0m 2ms/step - accuracy: 0.8511 - loss: 0.3517 - val_accuracy: 0.8827 - val_loss: 0.3286\n",
            "Epoch 13/100\n",
            "\u001b[1m106/106\u001b[0m \u001b[32m━━━━━━━━━━━━━━━━━━━━\u001b[0m\u001b[37m\u001b[0m \u001b[1m0s\u001b[0m 2ms/step - accuracy: 0.8532 - loss: 0.3529 - val_accuracy: 0.8707 - val_loss: 0.3227\n",
            "Epoch 14/100\n",
            "\u001b[1m106/106\u001b[0m \u001b[32m━━━━━━━━━━━━━━━━━━━━\u001b[0m\u001b[37m\u001b[0m \u001b[1m0s\u001b[0m 4ms/step - accuracy: 0.8527 - loss: 0.3478 - val_accuracy: 0.8733 - val_loss: 0.3233\n",
            "Epoch 15/100\n",
            "\u001b[1m106/106\u001b[0m \u001b[32m━━━━━━━━━━━━━━━━━━━━\u001b[0m\u001b[37m\u001b[0m \u001b[1m1s\u001b[0m 3ms/step - accuracy: 0.8555 - loss: 0.3431 - val_accuracy: 0.8813 - val_loss: 0.3250\n",
            "Epoch 16/100\n",
            "\u001b[1m106/106\u001b[0m \u001b[32m━━━━━━━━━━━━━━━━━━━━\u001b[0m\u001b[37m\u001b[0m \u001b[1m1s\u001b[0m 4ms/step - accuracy: 0.8496 - loss: 0.3526 - val_accuracy: 0.8733 - val_loss: 0.3199\n",
            "Epoch 17/100\n",
            "\u001b[1m106/106\u001b[0m \u001b[32m━━━━━━━━━━━━━━━━━━━━\u001b[0m\u001b[37m\u001b[0m \u001b[1m1s\u001b[0m 4ms/step - accuracy: 0.8529 - loss: 0.3515 - val_accuracy: 0.8787 - val_loss: 0.3223\n",
            "Epoch 18/100\n",
            "\u001b[1m106/106\u001b[0m \u001b[32m━━━━━━━━━━━━━━━━━━━━\u001b[0m\u001b[37m\u001b[0m \u001b[1m1s\u001b[0m 4ms/step - accuracy: 0.8557 - loss: 0.3441 - val_accuracy: 0.8747 - val_loss: 0.3211\n",
            "Epoch 19/100\n",
            "\u001b[1m106/106\u001b[0m \u001b[32m━━━━━━━━━━━━━━━━━━━━\u001b[0m\u001b[37m\u001b[0m \u001b[1m0s\u001b[0m 2ms/step - accuracy: 0.8562 - loss: 0.3402 - val_accuracy: 0.8773 - val_loss: 0.3191\n",
            "Epoch 20/100\n",
            "\u001b[1m106/106\u001b[0m \u001b[32m━━━━━━━━━━━━━━━━━━━━\u001b[0m\u001b[37m\u001b[0m \u001b[1m0s\u001b[0m 2ms/step - accuracy: 0.8578 - loss: 0.3492 - val_accuracy: 0.8787 - val_loss: 0.3222\n",
            "Epoch 21/100\n",
            "\u001b[1m106/106\u001b[0m \u001b[32m━━━━━━━━━━━━━━━━━━━━\u001b[0m\u001b[37m\u001b[0m \u001b[1m0s\u001b[0m 2ms/step - accuracy: 0.8554 - loss: 0.3405 - val_accuracy: 0.8760 - val_loss: 0.3188\n",
            "Epoch 22/100\n",
            "\u001b[1m106/106\u001b[0m \u001b[32m━━━━━━━━━━━━━━━━━━━━\u001b[0m\u001b[37m\u001b[0m \u001b[1m0s\u001b[0m 3ms/step - accuracy: 0.8612 - loss: 0.3369 - val_accuracy: 0.8707 - val_loss: 0.3182\n",
            "Epoch 23/100\n",
            "\u001b[1m106/106\u001b[0m \u001b[32m━━━━━━━━━━━━━━━━━━━━\u001b[0m\u001b[37m\u001b[0m \u001b[1m0s\u001b[0m 2ms/step - accuracy: 0.8655 - loss: 0.3370 - val_accuracy: 0.8773 - val_loss: 0.3236\n",
            "Epoch 24/100\n",
            "\u001b[1m106/106\u001b[0m \u001b[32m━━━━━━━━━━━━━━━━━━━━\u001b[0m\u001b[37m\u001b[0m \u001b[1m0s\u001b[0m 2ms/step - accuracy: 0.8536 - loss: 0.3454 - val_accuracy: 0.8747 - val_loss: 0.3178\n",
            "Epoch 25/100\n",
            "\u001b[1m106/106\u001b[0m \u001b[32m━━━━━━━━━━━━━━━━━━━━\u001b[0m\u001b[37m\u001b[0m \u001b[1m0s\u001b[0m 2ms/step - accuracy: 0.8555 - loss: 0.3452 - val_accuracy: 0.8800 - val_loss: 0.3163\n",
            "Epoch 26/100\n",
            "\u001b[1m106/106\u001b[0m \u001b[32m━━━━━━━━━━━━━━━━━━━━\u001b[0m\u001b[37m\u001b[0m \u001b[1m0s\u001b[0m 3ms/step - accuracy: 0.8581 - loss: 0.3399 - val_accuracy: 0.8853 - val_loss: 0.3216\n",
            "Epoch 27/100\n",
            "\u001b[1m106/106\u001b[0m \u001b[32m━━━━━━━━━━━━━━━━━━━━\u001b[0m\u001b[37m\u001b[0m \u001b[1m0s\u001b[0m 2ms/step - accuracy: 0.8599 - loss: 0.3409 - val_accuracy: 0.8747 - val_loss: 0.3153\n",
            "Epoch 28/100\n",
            "\u001b[1m106/106\u001b[0m \u001b[32m━━━━━━━━━━━━━━━━━━━━\u001b[0m\u001b[37m\u001b[0m \u001b[1m0s\u001b[0m 2ms/step - accuracy: 0.8605 - loss: 0.3263 - val_accuracy: 0.8760 - val_loss: 0.3152\n",
            "Epoch 29/100\n",
            "\u001b[1m106/106\u001b[0m \u001b[32m━━━━━━━━━━━━━━━━━━━━\u001b[0m\u001b[37m\u001b[0m \u001b[1m0s\u001b[0m 2ms/step - accuracy: 0.8616 - loss: 0.3396 - val_accuracy: 0.8787 - val_loss: 0.3161\n",
            "Epoch 30/100\n",
            "\u001b[1m106/106\u001b[0m \u001b[32m━━━━━━━━━━━━━━━━━━━━\u001b[0m\u001b[37m\u001b[0m \u001b[1m0s\u001b[0m 2ms/step - accuracy: 0.8606 - loss: 0.3288 - val_accuracy: 0.8800 - val_loss: 0.3183\n",
            "Epoch 31/100\n",
            "\u001b[1m106/106\u001b[0m \u001b[32m━━━━━━━━━━━━━━━━━━━━\u001b[0m\u001b[37m\u001b[0m \u001b[1m0s\u001b[0m 2ms/step - accuracy: 0.8593 - loss: 0.3364 - val_accuracy: 0.8760 - val_loss: 0.3234\n",
            "Epoch 32/100\n",
            "\u001b[1m106/106\u001b[0m \u001b[32m━━━━━━━━━━━━━━━━━━━━\u001b[0m\u001b[37m\u001b[0m \u001b[1m0s\u001b[0m 2ms/step - accuracy: 0.8607 - loss: 0.3389 - val_accuracy: 0.8787 - val_loss: 0.3188\n",
            "Epoch 33/100\n",
            "\u001b[1m106/106\u001b[0m \u001b[32m━━━━━━━━━━━━━━━━━━━━\u001b[0m\u001b[37m\u001b[0m \u001b[1m0s\u001b[0m 3ms/step - accuracy: 0.8625 - loss: 0.3293 - val_accuracy: 0.8733 - val_loss: 0.3161\n",
            "Epoch 34/100\n",
            "\u001b[1m106/106\u001b[0m \u001b[32m━━━━━━━━━━━━━━━━━━━━\u001b[0m\u001b[37m\u001b[0m \u001b[1m0s\u001b[0m 2ms/step - accuracy: 0.8646 - loss: 0.3339 - val_accuracy: 0.8760 - val_loss: 0.3153\n",
            "Epoch 35/100\n",
            "\u001b[1m106/106\u001b[0m \u001b[32m━━━━━━━━━━━━━━━━━━━━\u001b[0m\u001b[37m\u001b[0m \u001b[1m0s\u001b[0m 2ms/step - accuracy: 0.8597 - loss: 0.3388 - val_accuracy: 0.8747 - val_loss: 0.3147\n",
            "Epoch 36/100\n",
            "\u001b[1m106/106\u001b[0m \u001b[32m━━━━━━━━━━━━━━━━━━━━\u001b[0m\u001b[37m\u001b[0m \u001b[1m0s\u001b[0m 2ms/step - accuracy: 0.8581 - loss: 0.3380 - val_accuracy: 0.8787 - val_loss: 0.3176\n",
            "Epoch 37/100\n",
            "\u001b[1m106/106\u001b[0m \u001b[32m━━━━━━━━━━━━━━━━━━━━\u001b[0m\u001b[37m\u001b[0m \u001b[1m0s\u001b[0m 2ms/step - accuracy: 0.8567 - loss: 0.3390 - val_accuracy: 0.8707 - val_loss: 0.3162\n",
            "Epoch 38/100\n",
            "\u001b[1m106/106\u001b[0m \u001b[32m━━━━━━━━━━━━━━━━━━━━\u001b[0m\u001b[37m\u001b[0m \u001b[1m0s\u001b[0m 2ms/step - accuracy: 0.8575 - loss: 0.3389 - val_accuracy: 0.8773 - val_loss: 0.3152\n",
            "Epoch 39/100\n",
            "\u001b[1m106/106\u001b[0m \u001b[32m━━━━━━━━━━━━━━━━━━━━\u001b[0m\u001b[37m\u001b[0m \u001b[1m0s\u001b[0m 2ms/step - accuracy: 0.8569 - loss: 0.3359 - val_accuracy: 0.8760 - val_loss: 0.3180\n",
            "Epoch 40/100\n",
            "\u001b[1m106/106\u001b[0m \u001b[32m━━━━━━━━━━━━━━━━━━━━\u001b[0m\u001b[37m\u001b[0m \u001b[1m0s\u001b[0m 2ms/step - accuracy: 0.8599 - loss: 0.3262 - val_accuracy: 0.8813 - val_loss: 0.3198\n",
            "Epoch 41/100\n",
            "\u001b[1m106/106\u001b[0m \u001b[32m━━━━━━━━━━━━━━━━━━━━\u001b[0m\u001b[37m\u001b[0m \u001b[1m0s\u001b[0m 2ms/step - accuracy: 0.8582 - loss: 0.3352 - val_accuracy: 0.8747 - val_loss: 0.3155\n",
            "Epoch 42/100\n",
            "\u001b[1m106/106\u001b[0m \u001b[32m━━━━━━━━━━━━━━━━━━━━\u001b[0m\u001b[37m\u001b[0m \u001b[1m0s\u001b[0m 2ms/step - accuracy: 0.8574 - loss: 0.3311 - val_accuracy: 0.8800 - val_loss: 0.3166\n",
            "Epoch 43/100\n",
            "\u001b[1m106/106\u001b[0m \u001b[32m━━━━━━━━━━━━━━━━━━━━\u001b[0m\u001b[37m\u001b[0m \u001b[1m0s\u001b[0m 2ms/step - accuracy: 0.8653 - loss: 0.3332 - val_accuracy: 0.8827 - val_loss: 0.3147\n",
            "Epoch 44/100\n",
            "\u001b[1m106/106\u001b[0m \u001b[32m━━━━━━━━━━━━━━━━━━━━\u001b[0m\u001b[37m\u001b[0m \u001b[1m0s\u001b[0m 2ms/step - accuracy: 0.8662 - loss: 0.3209 - val_accuracy: 0.8733 - val_loss: 0.3129\n",
            "Epoch 45/100\n",
            "\u001b[1m106/106\u001b[0m \u001b[32m━━━━━━━━━━━━━━━━━━━━\u001b[0m\u001b[37m\u001b[0m \u001b[1m0s\u001b[0m 2ms/step - accuracy: 0.8748 - loss: 0.3148 - val_accuracy: 0.8787 - val_loss: 0.3203\n",
            "Epoch 46/100\n",
            "\u001b[1m106/106\u001b[0m \u001b[32m━━━━━━━━━━━━━━━━━━━━\u001b[0m\u001b[37m\u001b[0m \u001b[1m0s\u001b[0m 2ms/step - accuracy: 0.8596 - loss: 0.3379 - val_accuracy: 0.8733 - val_loss: 0.3130\n",
            "Epoch 47/100\n",
            "\u001b[1m106/106\u001b[0m \u001b[32m━━━━━━━━━━━━━━━━━━━━\u001b[0m\u001b[37m\u001b[0m \u001b[1m0s\u001b[0m 3ms/step - accuracy: 0.8614 - loss: 0.3244 - val_accuracy: 0.8787 - val_loss: 0.3146\n",
            "Epoch 48/100\n",
            "\u001b[1m106/106\u001b[0m \u001b[32m━━━━━━━━━━━━━━━━━━━━\u001b[0m\u001b[37m\u001b[0m \u001b[1m1s\u001b[0m 2ms/step - accuracy: 0.8589 - loss: 0.3370 - val_accuracy: 0.8827 - val_loss: 0.3172\n",
            "Epoch 49/100\n",
            "\u001b[1m106/106\u001b[0m \u001b[32m━━━━━━━━━━━━━━━━━━━━\u001b[0m\u001b[37m\u001b[0m \u001b[1m0s\u001b[0m 2ms/step - accuracy: 0.8654 - loss: 0.3323 - val_accuracy: 0.8773 - val_loss: 0.3163\n",
            "Epoch 50/100\n",
            "\u001b[1m106/106\u001b[0m \u001b[32m━━━━━━━━━━━━━━━━━━━━\u001b[0m\u001b[37m\u001b[0m \u001b[1m0s\u001b[0m 2ms/step - accuracy: 0.8640 - loss: 0.3283 - val_accuracy: 0.8827 - val_loss: 0.3157\n",
            "Epoch 51/100\n",
            "\u001b[1m106/106\u001b[0m \u001b[32m━━━━━━━━━━━━━━━━━━━━\u001b[0m\u001b[37m\u001b[0m \u001b[1m0s\u001b[0m 2ms/step - accuracy: 0.8646 - loss: 0.3224 - val_accuracy: 0.8747 - val_loss: 0.3139\n",
            "Epoch 52/100\n",
            "\u001b[1m106/106\u001b[0m \u001b[32m━━━━━━━━━━━━━━━━━━━━\u001b[0m\u001b[37m\u001b[0m \u001b[1m1s\u001b[0m 4ms/step - accuracy: 0.8575 - loss: 0.3373 - val_accuracy: 0.8720 - val_loss: 0.3169\n",
            "Epoch 53/100\n",
            "\u001b[1m106/106\u001b[0m \u001b[32m━━━━━━━━━━━━━━━━━━━━\u001b[0m\u001b[37m\u001b[0m \u001b[1m1s\u001b[0m 4ms/step - accuracy: 0.8696 - loss: 0.3227 - val_accuracy: 0.8813 - val_loss: 0.3181\n",
            "Epoch 54/100\n",
            "\u001b[1m106/106\u001b[0m \u001b[32m━━━━━━━━━━━━━━━━━━━━\u001b[0m\u001b[37m\u001b[0m \u001b[1m1s\u001b[0m 4ms/step - accuracy: 0.8663 - loss: 0.3311 - val_accuracy: 0.8760 - val_loss: 0.3137\n",
            "Epoch 55/100\n",
            "\u001b[1m106/106\u001b[0m \u001b[32m━━━━━━━━━━━━━━━━━━━━\u001b[0m\u001b[37m\u001b[0m \u001b[1m1s\u001b[0m 4ms/step - accuracy: 0.8620 - loss: 0.3340 - val_accuracy: 0.8720 - val_loss: 0.3126\n",
            "Epoch 56/100\n",
            "\u001b[1m106/106\u001b[0m \u001b[32m━━━━━━━━━━━━━━━━━━━━\u001b[0m\u001b[37m\u001b[0m \u001b[1m1s\u001b[0m 3ms/step - accuracy: 0.8640 - loss: 0.3275 - val_accuracy: 0.8813 - val_loss: 0.3134\n",
            "Epoch 57/100\n",
            "\u001b[1m106/106\u001b[0m \u001b[32m━━━━━━━━━━━━━━━━━━━━\u001b[0m\u001b[37m\u001b[0m \u001b[1m0s\u001b[0m 2ms/step - accuracy: 0.8645 - loss: 0.3238 - val_accuracy: 0.8760 - val_loss: 0.3212\n",
            "Epoch 58/100\n",
            "\u001b[1m106/106\u001b[0m \u001b[32m━━━━━━━━━━━━━━━━━━━━\u001b[0m\u001b[37m\u001b[0m \u001b[1m0s\u001b[0m 2ms/step - accuracy: 0.8664 - loss: 0.3282 - val_accuracy: 0.8733 - val_loss: 0.3162\n",
            "Epoch 59/100\n",
            "\u001b[1m106/106\u001b[0m \u001b[32m━━━━━━━━━━━━━━━━━━━━\u001b[0m\u001b[37m\u001b[0m \u001b[1m0s\u001b[0m 2ms/step - accuracy: 0.8669 - loss: 0.3202 - val_accuracy: 0.8787 - val_loss: 0.3190\n",
            "Epoch 60/100\n",
            "\u001b[1m106/106\u001b[0m \u001b[32m━━━━━━━━━━━━━━━━━━━━\u001b[0m\u001b[37m\u001b[0m \u001b[1m0s\u001b[0m 2ms/step - accuracy: 0.8628 - loss: 0.3339 - val_accuracy: 0.8693 - val_loss: 0.3184\n",
            "Epoch 61/100\n",
            "\u001b[1m106/106\u001b[0m \u001b[32m━━━━━━━━━━━━━━━━━━━━\u001b[0m\u001b[37m\u001b[0m \u001b[1m0s\u001b[0m 2ms/step - accuracy: 0.8628 - loss: 0.3303 - val_accuracy: 0.8733 - val_loss: 0.3162\n",
            "Epoch 62/100\n",
            "\u001b[1m106/106\u001b[0m \u001b[32m━━━━━━━━━━━━━━━━━━━━\u001b[0m\u001b[37m\u001b[0m \u001b[1m0s\u001b[0m 2ms/step - accuracy: 0.8611 - loss: 0.3252 - val_accuracy: 0.8720 - val_loss: 0.3155\n",
            "Epoch 63/100\n",
            "\u001b[1m106/106\u001b[0m \u001b[32m━━━━━━━━━━━━━━━━━━━━\u001b[0m\u001b[37m\u001b[0m \u001b[1m0s\u001b[0m 2ms/step - accuracy: 0.8631 - loss: 0.3325 - val_accuracy: 0.8760 - val_loss: 0.3150\n",
            "Epoch 64/100\n",
            "\u001b[1m106/106\u001b[0m \u001b[32m━━━━━━━━━━━━━━━━━━━━\u001b[0m\u001b[37m\u001b[0m \u001b[1m0s\u001b[0m 2ms/step - accuracy: 0.8636 - loss: 0.3294 - val_accuracy: 0.8773 - val_loss: 0.3168\n",
            "Epoch 65/100\n",
            "\u001b[1m106/106\u001b[0m \u001b[32m━━━━━━━━━━━━━━━━━━━━\u001b[0m\u001b[37m\u001b[0m \u001b[1m0s\u001b[0m 2ms/step - accuracy: 0.8676 - loss: 0.3170 - val_accuracy: 0.8693 - val_loss: 0.3215\n",
            "Epoch 66/100\n",
            "\u001b[1m106/106\u001b[0m \u001b[32m━━━━━━━━━━━━━━━━━━━━\u001b[0m\u001b[37m\u001b[0m \u001b[1m0s\u001b[0m 2ms/step - accuracy: 0.8654 - loss: 0.3265 - val_accuracy: 0.8747 - val_loss: 0.3172\n",
            "Epoch 67/100\n",
            "\u001b[1m106/106\u001b[0m \u001b[32m━━━━━━━━━━━━━━━━━━━━\u001b[0m\u001b[37m\u001b[0m \u001b[1m0s\u001b[0m 2ms/step - accuracy: 0.8706 - loss: 0.3191 - val_accuracy: 0.8760 - val_loss: 0.3176\n",
            "Epoch 68/100\n",
            "\u001b[1m106/106\u001b[0m \u001b[32m━━━━━━━━━━━━━━━━━━━━\u001b[0m\u001b[37m\u001b[0m \u001b[1m0s\u001b[0m 2ms/step - accuracy: 0.8615 - loss: 0.3235 - val_accuracy: 0.8720 - val_loss: 0.3146\n",
            "Epoch 69/100\n",
            "\u001b[1m106/106\u001b[0m \u001b[32m━━━━━━━━━━━━━━━━━━━━\u001b[0m\u001b[37m\u001b[0m \u001b[1m0s\u001b[0m 2ms/step - accuracy: 0.8668 - loss: 0.3225 - val_accuracy: 0.8733 - val_loss: 0.3169\n",
            "Epoch 70/100\n",
            "\u001b[1m106/106\u001b[0m \u001b[32m━━━━━━━━━━━━━━━━━━━━\u001b[0m\u001b[37m\u001b[0m \u001b[1m0s\u001b[0m 2ms/step - accuracy: 0.8699 - loss: 0.3196 - val_accuracy: 0.8693 - val_loss: 0.3198\n",
            "Epoch 71/100\n",
            "\u001b[1m106/106\u001b[0m \u001b[32m━━━━━━━━━━━━━━━━━━━━\u001b[0m\u001b[37m\u001b[0m \u001b[1m0s\u001b[0m 2ms/step - accuracy: 0.8658 - loss: 0.3273 - val_accuracy: 0.8680 - val_loss: 0.3161\n",
            "Epoch 72/100\n",
            "\u001b[1m106/106\u001b[0m \u001b[32m━━━━━━━━━━━━━━━━━━━━\u001b[0m\u001b[37m\u001b[0m \u001b[1m0s\u001b[0m 2ms/step - accuracy: 0.8683 - loss: 0.3180 - val_accuracy: 0.8720 - val_loss: 0.3209\n",
            "Epoch 73/100\n",
            "\u001b[1m106/106\u001b[0m \u001b[32m━━━━━━━━━━━━━━━━━━━━\u001b[0m\u001b[37m\u001b[0m \u001b[1m0s\u001b[0m 2ms/step - accuracy: 0.8679 - loss: 0.3215 - val_accuracy: 0.8733 - val_loss: 0.3174\n",
            "Epoch 74/100\n",
            "\u001b[1m106/106\u001b[0m \u001b[32m━━━━━━━━━━━━━━━━━━━━\u001b[0m\u001b[37m\u001b[0m \u001b[1m0s\u001b[0m 2ms/step - accuracy: 0.8667 - loss: 0.3267 - val_accuracy: 0.8707 - val_loss: 0.3170\n",
            "Epoch 75/100\n",
            "\u001b[1m106/106\u001b[0m \u001b[32m━━━━━━━━━━━━━━━━━━━━\u001b[0m\u001b[37m\u001b[0m \u001b[1m0s\u001b[0m 2ms/step - accuracy: 0.8630 - loss: 0.3256 - val_accuracy: 0.8747 - val_loss: 0.3179\n",
            "Epoch 76/100\n",
            "\u001b[1m106/106\u001b[0m \u001b[32m━━━━━━━━━━━━━━━━━━━━\u001b[0m\u001b[37m\u001b[0m \u001b[1m0s\u001b[0m 2ms/step - accuracy: 0.8678 - loss: 0.3206 - val_accuracy: 0.8707 - val_loss: 0.3158\n",
            "Epoch 77/100\n",
            "\u001b[1m106/106\u001b[0m \u001b[32m━━━━━━━━━━━━━━━━━━━━\u001b[0m\u001b[37m\u001b[0m \u001b[1m0s\u001b[0m 2ms/step - accuracy: 0.8693 - loss: 0.3123 - val_accuracy: 0.8707 - val_loss: 0.3171\n",
            "Epoch 78/100\n",
            "\u001b[1m106/106\u001b[0m \u001b[32m━━━━━━━━━━━━━━━━━━━━\u001b[0m\u001b[37m\u001b[0m \u001b[1m0s\u001b[0m 2ms/step - accuracy: 0.8613 - loss: 0.3301 - val_accuracy: 0.8720 - val_loss: 0.3119\n",
            "Epoch 79/100\n",
            "\u001b[1m106/106\u001b[0m \u001b[32m━━━━━━━━━━━━━━━━━━━━\u001b[0m\u001b[37m\u001b[0m \u001b[1m0s\u001b[0m 2ms/step - accuracy: 0.8622 - loss: 0.3331 - val_accuracy: 0.8720 - val_loss: 0.3174\n",
            "Epoch 80/100\n",
            "\u001b[1m106/106\u001b[0m \u001b[32m━━━━━━━━━━━━━━━━━━━━\u001b[0m\u001b[37m\u001b[0m \u001b[1m0s\u001b[0m 2ms/step - accuracy: 0.8713 - loss: 0.3163 - val_accuracy: 0.8773 - val_loss: 0.3186\n",
            "Epoch 81/100\n",
            "\u001b[1m106/106\u001b[0m \u001b[32m━━━━━━━━━━━━━━━━━━━━\u001b[0m\u001b[37m\u001b[0m \u001b[1m0s\u001b[0m 2ms/step - accuracy: 0.8678 - loss: 0.3188 - val_accuracy: 0.8747 - val_loss: 0.3181\n",
            "Epoch 82/100\n",
            "\u001b[1m106/106\u001b[0m \u001b[32m━━━━━━━━━━━━━━━━━━━━\u001b[0m\u001b[37m\u001b[0m \u001b[1m0s\u001b[0m 2ms/step - accuracy: 0.8631 - loss: 0.3216 - val_accuracy: 0.8733 - val_loss: 0.3176\n",
            "Epoch 83/100\n",
            "\u001b[1m106/106\u001b[0m \u001b[32m━━━━━━━━━━━━━━━━━━━━\u001b[0m\u001b[37m\u001b[0m \u001b[1m0s\u001b[0m 2ms/step - accuracy: 0.8699 - loss: 0.3154 - val_accuracy: 0.8667 - val_loss: 0.3153\n",
            "Epoch 84/100\n",
            "\u001b[1m106/106\u001b[0m \u001b[32m━━━━━━━━━━━━━━━━━━━━\u001b[0m\u001b[37m\u001b[0m \u001b[1m0s\u001b[0m 2ms/step - accuracy: 0.8608 - loss: 0.3288 - val_accuracy: 0.8693 - val_loss: 0.3153\n",
            "Epoch 85/100\n",
            "\u001b[1m106/106\u001b[0m \u001b[32m━━━━━━━━━━━━━━━━━━━━\u001b[0m\u001b[37m\u001b[0m \u001b[1m0s\u001b[0m 2ms/step - accuracy: 0.8732 - loss: 0.3112 - val_accuracy: 0.8720 - val_loss: 0.3192\n",
            "Epoch 86/100\n",
            "\u001b[1m106/106\u001b[0m \u001b[32m━━━━━━━━━━━━━━━━━━━━\u001b[0m\u001b[37m\u001b[0m \u001b[1m0s\u001b[0m 2ms/step - accuracy: 0.8628 - loss: 0.3241 - val_accuracy: 0.8720 - val_loss: 0.3152\n",
            "Epoch 87/100\n",
            "\u001b[1m106/106\u001b[0m \u001b[32m━━━━━━━━━━━━━━━━━━━━\u001b[0m\u001b[37m\u001b[0m \u001b[1m0s\u001b[0m 3ms/step - accuracy: 0.8652 - loss: 0.3234 - val_accuracy: 0.8747 - val_loss: 0.3150\n",
            "Epoch 88/100\n",
            "\u001b[1m106/106\u001b[0m \u001b[32m━━━━━━━━━━━━━━━━━━━━\u001b[0m\u001b[37m\u001b[0m \u001b[1m0s\u001b[0m 2ms/step - accuracy: 0.8667 - loss: 0.3247 - val_accuracy: 0.8680 - val_loss: 0.3142\n",
            "Epoch 89/100\n",
            "\u001b[1m106/106\u001b[0m \u001b[32m━━━━━━━━━━━━━━━━━━━━\u001b[0m\u001b[37m\u001b[0m \u001b[1m0s\u001b[0m 2ms/step - accuracy: 0.8612 - loss: 0.3256 - val_accuracy: 0.8707 - val_loss: 0.3158\n",
            "Epoch 90/100\n",
            "\u001b[1m106/106\u001b[0m \u001b[32m━━━━━━━━━━━━━━━━━━━━\u001b[0m\u001b[37m\u001b[0m \u001b[1m1s\u001b[0m 4ms/step - accuracy: 0.8684 - loss: 0.3109 - val_accuracy: 0.8733 - val_loss: 0.3152\n",
            "Epoch 91/100\n",
            "\u001b[1m106/106\u001b[0m \u001b[32m━━━━━━━━━━━━━━━━━━━━\u001b[0m\u001b[37m\u001b[0m \u001b[1m1s\u001b[0m 4ms/step - accuracy: 0.8707 - loss: 0.3150 - val_accuracy: 0.8707 - val_loss: 0.3174\n",
            "Epoch 92/100\n",
            "\u001b[1m106/106\u001b[0m \u001b[32m━━━━━━━━━━━━━━━━━━━━\u001b[0m\u001b[37m\u001b[0m \u001b[1m1s\u001b[0m 4ms/step - accuracy: 0.8753 - loss: 0.3136 - val_accuracy: 0.8747 - val_loss: 0.3227\n",
            "Epoch 93/100\n",
            "\u001b[1m106/106\u001b[0m \u001b[32m━━━━━━━━━━━━━━━━━━━━\u001b[0m\u001b[37m\u001b[0m \u001b[1m0s\u001b[0m 4ms/step - accuracy: 0.8716 - loss: 0.3069 - val_accuracy: 0.8693 - val_loss: 0.3166\n",
            "Epoch 94/100\n",
            "\u001b[1m106/106\u001b[0m \u001b[32m━━━━━━━━━━━━━━━━━━━━\u001b[0m\u001b[37m\u001b[0m \u001b[1m1s\u001b[0m 3ms/step - accuracy: 0.8683 - loss: 0.3224 - val_accuracy: 0.8733 - val_loss: 0.3204\n",
            "Epoch 95/100\n",
            "\u001b[1m106/106\u001b[0m \u001b[32m━━━━━━━━━━━━━━━━━━━━\u001b[0m\u001b[37m\u001b[0m \u001b[1m1s\u001b[0m 6ms/step - accuracy: 0.8672 - loss: 0.3180 - val_accuracy: 0.8707 - val_loss: 0.3149\n",
            "Epoch 96/100\n",
            "\u001b[1m106/106\u001b[0m \u001b[32m━━━━━━━━━━━━━━━━━━━━\u001b[0m\u001b[37m\u001b[0m \u001b[1m1s\u001b[0m 2ms/step - accuracy: 0.8722 - loss: 0.3138 - val_accuracy: 0.8707 - val_loss: 0.3188\n",
            "Epoch 97/100\n",
            "\u001b[1m106/106\u001b[0m \u001b[32m━━━━━━━━━━━━━━━━━━━━\u001b[0m\u001b[37m\u001b[0m \u001b[1m0s\u001b[0m 2ms/step - accuracy: 0.8732 - loss: 0.3098 - val_accuracy: 0.8747 - val_loss: 0.3235\n",
            "Epoch 98/100\n",
            "\u001b[1m106/106\u001b[0m \u001b[32m━━━━━━━━━━━━━━━━━━━━\u001b[0m\u001b[37m\u001b[0m \u001b[1m0s\u001b[0m 2ms/step - accuracy: 0.8734 - loss: 0.3136 - val_accuracy: 0.8747 - val_loss: 0.3138\n",
            "Epoch 99/100\n",
            "\u001b[1m106/106\u001b[0m \u001b[32m━━━━━━━━━━━━━━━━━━━━\u001b[0m\u001b[37m\u001b[0m \u001b[1m0s\u001b[0m 2ms/step - accuracy: 0.8701 - loss: 0.3190 - val_accuracy: 0.8720 - val_loss: 0.3148\n",
            "Epoch 100/100\n",
            "\u001b[1m106/106\u001b[0m \u001b[32m━━━━━━━━━━━━━━━━━━━━\u001b[0m\u001b[37m\u001b[0m \u001b[1m0s\u001b[0m 3ms/step - accuracy: 0.8769 - loss: 0.3031 - val_accuracy: 0.8707 - val_loss: 0.3182\n"
          ]
        },
        {
          "output_type": "execute_result",
          "data": {
            "text/plain": [
              "<keras.src.callbacks.history.History at 0x7b4b0dfae6e0>"
            ]
          },
          "metadata": {},
          "execution_count": 13
        }
      ],
      "source": [
        "model.fit(x_train,y_train,batch_size=64,validation_split=0.1,epochs=100)"
      ]
    },
    {
      "cell_type": "code",
      "execution_count": null,
      "id": "e431ca08-1eb6-4305-aa3e-1af76357b608",
      "metadata": {
        "colab": {
          "base_uri": "https://localhost:8080/"
        },
        "id": "e431ca08-1eb6-4305-aa3e-1af76357b608",
        "outputId": "428e720f-de28-4ae9-ab74-d726394a994a"
      },
      "outputs": [
        {
          "output_type": "stream",
          "name": "stdout",
          "text": [
            "\u001b[1m79/79\u001b[0m \u001b[32m━━━━━━━━━━━━━━━━━━━━\u001b[0m\u001b[37m\u001b[0m \u001b[1m0s\u001b[0m 2ms/step\n"
          ]
        }
      ],
      "source": [
        "# Predicting values of test dataset\n",
        "pred = model.predict(x_test)"
      ]
    },
    {
      "cell_type": "code",
      "execution_count": null,
      "id": "d4b11b9b-ff24-4c68-8bf5-397e2e852c40",
      "metadata": {
        "id": "d4b11b9b-ff24-4c68-8bf5-397e2e852c40"
      },
      "outputs": [],
      "source": [
        "y_pred = []\n",
        "for val in pred:\n",
        "    if val > 0.5:\n",
        "        y_pred.append(1)\n",
        "    else:\n",
        "        y_pred.append(0)"
      ]
    },
    {
      "cell_type": "code",
      "execution_count": null,
      "id": "f3f5ae28-9efa-4d17-8ab4-b5619a59d3a1",
      "metadata": {
        "id": "f3f5ae28-9efa-4d17-8ab4-b5619a59d3a1"
      },
      "outputs": [],
      "source": [
        "from sklearn.metrics import accuracy_score,confusion_matrix"
      ]
    },
    {
      "cell_type": "code",
      "execution_count": null,
      "id": "985c03f2-0020-4577-99a9-a6a32eac0cda",
      "metadata": {
        "colab": {
          "base_uri": "https://localhost:8080/"
        },
        "id": "985c03f2-0020-4577-99a9-a6a32eac0cda",
        "outputId": "b4bafe4e-8f3e-490b-c2d5-e4a6ea4a23c3"
      },
      "outputs": [
        {
          "output_type": "stream",
          "name": "stdout",
          "text": [
            "[[1936   86]\n",
            " [ 255  223]]\n"
          ]
        }
      ],
      "source": [
        "cm = confusion_matrix(y_test,y_pred)\n",
        "print(cm)"
      ]
    },
    {
      "cell_type": "code",
      "execution_count": null,
      "id": "8b813256-9268-428d-953d-f4cece6efbb9",
      "metadata": {
        "colab": {
          "base_uri": "https://localhost:8080/"
        },
        "id": "8b813256-9268-428d-953d-f4cece6efbb9",
        "outputId": "294c671b-856a-47ec-c6b4-369b6df6a676"
      },
      "outputs": [
        {
          "output_type": "execute_result",
          "data": {
            "text/plain": [
              "0.8636"
            ]
          },
          "metadata": {},
          "execution_count": 18
        }
      ],
      "source": [
        "accuracy_score(y_test,y_pred)"
      ]
    }
  ],
  "metadata": {
    "kernelspec": {
      "display_name": "Python 3 (ipykernel)",
      "language": "python",
      "name": "python3"
    },
    "language_info": {
      "codemirror_mode": {
        "name": "ipython",
        "version": 3
      },
      "file_extension": ".py",
      "mimetype": "text/x-python",
      "name": "python",
      "nbconvert_exporter": "python",
      "pygments_lexer": "ipython3",
      "version": "3.11.5"
    },
    "colab": {
      "provenance": []
    }
  },
  "nbformat": 4,
  "nbformat_minor": 5
}